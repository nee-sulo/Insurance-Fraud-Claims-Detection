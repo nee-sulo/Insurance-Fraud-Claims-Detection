{
 "cells": [
  {
   "cell_type": "code",
   "execution_count": 1,
   "metadata": {},
   "outputs": [],
   "source": [
    "# load libraries \n",
    "import pandas as pd\n",
    "import matplotlib.pyplot as plt\n",
    "import seaborn as sns\n",
    "import numpy as np\n",
    "import warnings\n",
    "warnings.filterwarnings('ignore')\n",
    "from sklearn.linear_model import LogisticRegression,LogisticRegressionCV\n",
    "from sklearn.metrics import confusion_matrix,classification_report,roc_auc_score\n",
    "from sklearn.model_selection import GridSearchCV, RandomizedSearchCV\n",
    "from sklearn.model_selection import KFold"
   ]
  },
  {
   "cell_type": "code",
   "execution_count": 2,
   "metadata": {},
   "outputs": [
    {
     "data": {
      "text/html": [
       "<div>\n",
       "<style scoped>\n",
       "    .dataframe tbody tr th:only-of-type {\n",
       "        vertical-align: middle;\n",
       "    }\n",
       "\n",
       "    .dataframe tbody tr th {\n",
       "        vertical-align: top;\n",
       "    }\n",
       "\n",
       "    .dataframe thead th {\n",
       "        text-align: right;\n",
       "    }\n",
       "</style>\n",
       "<table border=\"1\" class=\"dataframe\">\n",
       "  <thead>\n",
       "    <tr style=\"text-align: right;\">\n",
       "      <th></th>\n",
       "      <th>policy_deductable</th>\n",
       "      <th>policy_annual_premium</th>\n",
       "      <th>capital-gains</th>\n",
       "      <th>capital-loss</th>\n",
       "      <th>incident_hour_of_the_day</th>\n",
       "      <th>number_of_vehicles_involved</th>\n",
       "      <th>bodily_injuries</th>\n",
       "      <th>witnesses</th>\n",
       "      <th>vehicle_claim</th>\n",
       "      <th>customer</th>\n",
       "      <th>Customer_age_group</th>\n",
       "      <th>have_umbrella_limit</th>\n",
       "      <th>policy_csl</th>\n",
       "      <th>insured_sex</th>\n",
       "      <th>insured_education_level</th>\n",
       "      <th>incident_severity</th>\n",
       "      <th>property_damage</th>\n",
       "      <th>police_report_available</th>\n",
       "      <th>fraud_reported</th>\n",
       "      <th>insured_occupation_armed-forces</th>\n",
       "      <th>insured_occupation_craft-repair</th>\n",
       "      <th>insured_occupation_exec-managerial</th>\n",
       "      <th>insured_occupation_farming-fishing</th>\n",
       "      <th>insured_occupation_handlers-cleaners</th>\n",
       "      <th>insured_occupation_machine-op-inspct</th>\n",
       "      <th>insured_occupation_other-service</th>\n",
       "      <th>insured_occupation_priv-house-serv</th>\n",
       "      <th>insured_occupation_prof-specialty</th>\n",
       "      <th>insured_occupation_protective-serv</th>\n",
       "      <th>insured_occupation_sales</th>\n",
       "      <th>insured_occupation_tech-support</th>\n",
       "      <th>insured_occupation_transport-moving</th>\n",
       "      <th>insured_relationship_not-in-family</th>\n",
       "      <th>insured_relationship_other-relative</th>\n",
       "      <th>insured_relationship_own-child</th>\n",
       "      <th>insured_relationship_unmarried</th>\n",
       "      <th>insured_relationship_wife</th>\n",
       "      <th>incident_type_Parked Car</th>\n",
       "      <th>incident_type_Single Vehicle Collision</th>\n",
       "      <th>incident_type_Vehicle Theft</th>\n",
       "      <th>collision_type_Rear Collision</th>\n",
       "      <th>collision_type_Side Collision</th>\n",
       "      <th>authorities_contacted_Fire</th>\n",
       "      <th>authorities_contacted_None</th>\n",
       "      <th>authorities_contacted_Other</th>\n",
       "      <th>authorities_contacted_Police</th>\n",
       "    </tr>\n",
       "  </thead>\n",
       "  <tbody>\n",
       "    <tr>\n",
       "      <td>0</td>\n",
       "      <td>1000</td>\n",
       "      <td>1406.91</td>\n",
       "      <td>53300</td>\n",
       "      <td>0</td>\n",
       "      <td>5</td>\n",
       "      <td>1</td>\n",
       "      <td>1</td>\n",
       "      <td>2</td>\n",
       "      <td>52080</td>\n",
       "      <td>0</td>\n",
       "      <td>0</td>\n",
       "      <td>1</td>\n",
       "      <td>2.5</td>\n",
       "      <td>1</td>\n",
       "      <td>6</td>\n",
       "      <td>3</td>\n",
       "      <td>1</td>\n",
       "      <td>1</td>\n",
       "      <td>1</td>\n",
       "      <td>0</td>\n",
       "      <td>1</td>\n",
       "      <td>0</td>\n",
       "      <td>0</td>\n",
       "      <td>0</td>\n",
       "      <td>0</td>\n",
       "      <td>0</td>\n",
       "      <td>0</td>\n",
       "      <td>0</td>\n",
       "      <td>0</td>\n",
       "      <td>0</td>\n",
       "      <td>0</td>\n",
       "      <td>0</td>\n",
       "      <td>0</td>\n",
       "      <td>0</td>\n",
       "      <td>0</td>\n",
       "      <td>0</td>\n",
       "      <td>0</td>\n",
       "      <td>0</td>\n",
       "      <td>1</td>\n",
       "      <td>0</td>\n",
       "      <td>0</td>\n",
       "      <td>1</td>\n",
       "      <td>0</td>\n",
       "      <td>0</td>\n",
       "      <td>0</td>\n",
       "      <td>1</td>\n",
       "    </tr>\n",
       "    <tr>\n",
       "      <td>1</td>\n",
       "      <td>2000</td>\n",
       "      <td>1197.22</td>\n",
       "      <td>0</td>\n",
       "      <td>0</td>\n",
       "      <td>8</td>\n",
       "      <td>1</td>\n",
       "      <td>0</td>\n",
       "      <td>0</td>\n",
       "      <td>3510</td>\n",
       "      <td>0</td>\n",
       "      <td>0</td>\n",
       "      <td>0</td>\n",
       "      <td>2.5</td>\n",
       "      <td>1</td>\n",
       "      <td>6</td>\n",
       "      <td>2</td>\n",
       "      <td>0</td>\n",
       "      <td>0</td>\n",
       "      <td>1</td>\n",
       "      <td>0</td>\n",
       "      <td>0</td>\n",
       "      <td>0</td>\n",
       "      <td>0</td>\n",
       "      <td>0</td>\n",
       "      <td>1</td>\n",
       "      <td>0</td>\n",
       "      <td>0</td>\n",
       "      <td>0</td>\n",
       "      <td>0</td>\n",
       "      <td>0</td>\n",
       "      <td>0</td>\n",
       "      <td>0</td>\n",
       "      <td>0</td>\n",
       "      <td>1</td>\n",
       "      <td>0</td>\n",
       "      <td>0</td>\n",
       "      <td>0</td>\n",
       "      <td>0</td>\n",
       "      <td>0</td>\n",
       "      <td>1</td>\n",
       "      <td>1</td>\n",
       "      <td>0</td>\n",
       "      <td>0</td>\n",
       "      <td>0</td>\n",
       "      <td>0</td>\n",
       "      <td>1</td>\n",
       "    </tr>\n",
       "    <tr>\n",
       "      <td>2</td>\n",
       "      <td>2000</td>\n",
       "      <td>1413.14</td>\n",
       "      <td>35100</td>\n",
       "      <td>0</td>\n",
       "      <td>7</td>\n",
       "      <td>3</td>\n",
       "      <td>2</td>\n",
       "      <td>3</td>\n",
       "      <td>23100</td>\n",
       "      <td>0</td>\n",
       "      <td>1</td>\n",
       "      <td>0</td>\n",
       "      <td>1.0</td>\n",
       "      <td>0</td>\n",
       "      <td>7</td>\n",
       "      <td>2</td>\n",
       "      <td>0</td>\n",
       "      <td>0</td>\n",
       "      <td>0</td>\n",
       "      <td>0</td>\n",
       "      <td>0</td>\n",
       "      <td>0</td>\n",
       "      <td>0</td>\n",
       "      <td>0</td>\n",
       "      <td>0</td>\n",
       "      <td>0</td>\n",
       "      <td>0</td>\n",
       "      <td>0</td>\n",
       "      <td>0</td>\n",
       "      <td>1</td>\n",
       "      <td>0</td>\n",
       "      <td>0</td>\n",
       "      <td>0</td>\n",
       "      <td>0</td>\n",
       "      <td>1</td>\n",
       "      <td>0</td>\n",
       "      <td>0</td>\n",
       "      <td>0</td>\n",
       "      <td>0</td>\n",
       "      <td>0</td>\n",
       "      <td>1</td>\n",
       "      <td>0</td>\n",
       "      <td>0</td>\n",
       "      <td>0</td>\n",
       "      <td>0</td>\n",
       "      <td>1</td>\n",
       "    </tr>\n",
       "    <tr>\n",
       "      <td>3</td>\n",
       "      <td>2000</td>\n",
       "      <td>1415.74</td>\n",
       "      <td>48900</td>\n",
       "      <td>-62400</td>\n",
       "      <td>5</td>\n",
       "      <td>1</td>\n",
       "      <td>1</td>\n",
       "      <td>2</td>\n",
       "      <td>50720</td>\n",
       "      <td>0</td>\n",
       "      <td>0</td>\n",
       "      <td>0</td>\n",
       "      <td>2.5</td>\n",
       "      <td>0</td>\n",
       "      <td>7</td>\n",
       "      <td>3</td>\n",
       "      <td>0</td>\n",
       "      <td>0</td>\n",
       "      <td>1</td>\n",
       "      <td>1</td>\n",
       "      <td>0</td>\n",
       "      <td>0</td>\n",
       "      <td>0</td>\n",
       "      <td>0</td>\n",
       "      <td>0</td>\n",
       "      <td>0</td>\n",
       "      <td>0</td>\n",
       "      <td>0</td>\n",
       "      <td>0</td>\n",
       "      <td>0</td>\n",
       "      <td>0</td>\n",
       "      <td>0</td>\n",
       "      <td>0</td>\n",
       "      <td>0</td>\n",
       "      <td>0</td>\n",
       "      <td>1</td>\n",
       "      <td>0</td>\n",
       "      <td>0</td>\n",
       "      <td>1</td>\n",
       "      <td>0</td>\n",
       "      <td>0</td>\n",
       "      <td>0</td>\n",
       "      <td>0</td>\n",
       "      <td>0</td>\n",
       "      <td>0</td>\n",
       "      <td>1</td>\n",
       "    </tr>\n",
       "    <tr>\n",
       "      <td>4</td>\n",
       "      <td>1000</td>\n",
       "      <td>1583.91</td>\n",
       "      <td>66000</td>\n",
       "      <td>-46000</td>\n",
       "      <td>20</td>\n",
       "      <td>1</td>\n",
       "      <td>0</td>\n",
       "      <td>1</td>\n",
       "      <td>4550</td>\n",
       "      <td>0</td>\n",
       "      <td>0</td>\n",
       "      <td>0</td>\n",
       "      <td>5.0</td>\n",
       "      <td>1</td>\n",
       "      <td>5</td>\n",
       "      <td>2</td>\n",
       "      <td>0</td>\n",
       "      <td>0</td>\n",
       "      <td>0</td>\n",
       "      <td>0</td>\n",
       "      <td>0</td>\n",
       "      <td>0</td>\n",
       "      <td>0</td>\n",
       "      <td>0</td>\n",
       "      <td>0</td>\n",
       "      <td>0</td>\n",
       "      <td>0</td>\n",
       "      <td>0</td>\n",
       "      <td>0</td>\n",
       "      <td>1</td>\n",
       "      <td>0</td>\n",
       "      <td>0</td>\n",
       "      <td>0</td>\n",
       "      <td>0</td>\n",
       "      <td>0</td>\n",
       "      <td>1</td>\n",
       "      <td>0</td>\n",
       "      <td>0</td>\n",
       "      <td>0</td>\n",
       "      <td>1</td>\n",
       "      <td>1</td>\n",
       "      <td>0</td>\n",
       "      <td>0</td>\n",
       "      <td>1</td>\n",
       "      <td>0</td>\n",
       "      <td>0</td>\n",
       "    </tr>\n",
       "  </tbody>\n",
       "</table>\n",
       "</div>"
      ],
      "text/plain": [
       "   policy_deductable  policy_annual_premium  capital-gains  capital-loss  \\\n",
       "0               1000                1406.91          53300             0   \n",
       "1               2000                1197.22              0             0   \n",
       "2               2000                1413.14          35100             0   \n",
       "3               2000                1415.74          48900        -62400   \n",
       "4               1000                1583.91          66000        -46000   \n",
       "\n",
       "   incident_hour_of_the_day  number_of_vehicles_involved  bodily_injuries  \\\n",
       "0                         5                            1                1   \n",
       "1                         8                            1                0   \n",
       "2                         7                            3                2   \n",
       "3                         5                            1                1   \n",
       "4                        20                            1                0   \n",
       "\n",
       "   witnesses  vehicle_claim  customer  Customer_age_group  \\\n",
       "0          2          52080         0                   0   \n",
       "1          0           3510         0                   0   \n",
       "2          3          23100         0                   1   \n",
       "3          2          50720         0                   0   \n",
       "4          1           4550         0                   0   \n",
       "\n",
       "   have_umbrella_limit  policy_csl  insured_sex  insured_education_level  \\\n",
       "0                    1         2.5            1                        6   \n",
       "1                    0         2.5            1                        6   \n",
       "2                    0         1.0            0                        7   \n",
       "3                    0         2.5            0                        7   \n",
       "4                    0         5.0            1                        5   \n",
       "\n",
       "   incident_severity  property_damage  police_report_available  \\\n",
       "0                  3                1                        1   \n",
       "1                  2                0                        0   \n",
       "2                  2                0                        0   \n",
       "3                  3                0                        0   \n",
       "4                  2                0                        0   \n",
       "\n",
       "   fraud_reported  insured_occupation_armed-forces  \\\n",
       "0               1                                0   \n",
       "1               1                                0   \n",
       "2               0                                0   \n",
       "3               1                                1   \n",
       "4               0                                0   \n",
       "\n",
       "   insured_occupation_craft-repair  insured_occupation_exec-managerial  \\\n",
       "0                                1                                   0   \n",
       "1                                0                                   0   \n",
       "2                                0                                   0   \n",
       "3                                0                                   0   \n",
       "4                                0                                   0   \n",
       "\n",
       "   insured_occupation_farming-fishing  insured_occupation_handlers-cleaners  \\\n",
       "0                                   0                                     0   \n",
       "1                                   0                                     0   \n",
       "2                                   0                                     0   \n",
       "3                                   0                                     0   \n",
       "4                                   0                                     0   \n",
       "\n",
       "   insured_occupation_machine-op-inspct  insured_occupation_other-service  \\\n",
       "0                                     0                                 0   \n",
       "1                                     1                                 0   \n",
       "2                                     0                                 0   \n",
       "3                                     0                                 0   \n",
       "4                                     0                                 0   \n",
       "\n",
       "   insured_occupation_priv-house-serv  insured_occupation_prof-specialty  \\\n",
       "0                                   0                                  0   \n",
       "1                                   0                                  0   \n",
       "2                                   0                                  0   \n",
       "3                                   0                                  0   \n",
       "4                                   0                                  0   \n",
       "\n",
       "   insured_occupation_protective-serv  insured_occupation_sales  \\\n",
       "0                                   0                         0   \n",
       "1                                   0                         0   \n",
       "2                                   0                         1   \n",
       "3                                   0                         0   \n",
       "4                                   0                         1   \n",
       "\n",
       "   insured_occupation_tech-support  insured_occupation_transport-moving  \\\n",
       "0                                0                                    0   \n",
       "1                                0                                    0   \n",
       "2                                0                                    0   \n",
       "3                                0                                    0   \n",
       "4                                0                                    0   \n",
       "\n",
       "   insured_relationship_not-in-family  insured_relationship_other-relative  \\\n",
       "0                                   0                                    0   \n",
       "1                                   0                                    1   \n",
       "2                                   0                                    0   \n",
       "3                                   0                                    0   \n",
       "4                                   0                                    0   \n",
       "\n",
       "   insured_relationship_own-child  insured_relationship_unmarried  \\\n",
       "0                               0                               0   \n",
       "1                               0                               0   \n",
       "2                               1                               0   \n",
       "3                               0                               1   \n",
       "4                               0                               1   \n",
       "\n",
       "   insured_relationship_wife  incident_type_Parked Car  \\\n",
       "0                          0                         0   \n",
       "1                          0                         0   \n",
       "2                          0                         0   \n",
       "3                          0                         0   \n",
       "4                          0                         0   \n",
       "\n",
       "   incident_type_Single Vehicle Collision  incident_type_Vehicle Theft  \\\n",
       "0                                       1                            0   \n",
       "1                                       0                            1   \n",
       "2                                       0                            0   \n",
       "3                                       1                            0   \n",
       "4                                       0                            1   \n",
       "\n",
       "   collision_type_Rear Collision  collision_type_Side Collision  \\\n",
       "0                              0                              1   \n",
       "1                              1                              0   \n",
       "2                              1                              0   \n",
       "3                              0                              0   \n",
       "4                              1                              0   \n",
       "\n",
       "   authorities_contacted_Fire  authorities_contacted_None  \\\n",
       "0                           0                           0   \n",
       "1                           0                           0   \n",
       "2                           0                           0   \n",
       "3                           0                           0   \n",
       "4                           0                           1   \n",
       "\n",
       "   authorities_contacted_Other  authorities_contacted_Police  \n",
       "0                            0                             1  \n",
       "1                            0                             1  \n",
       "2                            0                             1  \n",
       "3                            0                             1  \n",
       "4                            0                             0  "
      ]
     },
     "execution_count": 2,
     "metadata": {},
     "output_type": "execute_result"
    }
   ],
   "source": [
    "# Display all the columns of the dataframe\n",
    "pd.pandas.set_option('display.max_columns',None)\n",
    "\n",
    "# load train data set\n",
    "df=pd.read_csv('experiment1.csv')\n",
    "df.head()"
   ]
  },
  {
   "cell_type": "code",
   "execution_count": 3,
   "metadata": {},
   "outputs": [],
   "source": [
    "# Divide data into X and y\n",
    "X=df.drop('fraud_reported',axis=1)\n",
    "y=df['fraud_reported']"
   ]
  },
  {
   "cell_type": "markdown",
   "metadata": {},
   "source": [
    "# Applying Sampling Techniques"
   ]
  },
  {
   "cell_type": "code",
   "execution_count": 4,
   "metadata": {},
   "outputs": [
    {
     "name": "stdout",
     "output_type": "stream",
     "text": [
      "(1506, 45)\n",
      "(1506,)\n"
     ]
    }
   ],
   "source": [
    "# Over Sampling with SMOTE\n",
    "from imblearn.over_sampling import SMOTE\n",
    "\n",
    "x_resample, y_resample  = SMOTE().fit_sample(X, y.values.ravel())\n",
    "\n",
    "print(x_resample.shape)\n",
    "print(y_resample.shape)"
   ]
  },
  {
   "cell_type": "markdown",
   "metadata": {},
   "source": [
    "# Train test split"
   ]
  },
  {
   "cell_type": "code",
   "execution_count": 5,
   "metadata": {},
   "outputs": [
    {
     "name": "stdout",
     "output_type": "stream",
     "text": [
      "(1204, 45)\n",
      "(1204,)\n",
      "(302, 45)\n",
      "(302,)\n"
     ]
    }
   ],
   "source": [
    "from sklearn.model_selection import train_test_split\n",
    "x_train, x_test, y_train, y_test = train_test_split(x_resample, y_resample, test_size = 0.2, random_state = 0)\n",
    "\n",
    "print(x_train.shape)\n",
    "print(y_train.shape)\n",
    "print(x_test.shape)\n",
    "print(y_test.shape)"
   ]
  },
  {
   "cell_type": "markdown",
   "metadata": {},
   "source": [
    "# Data standardization"
   ]
  },
  {
   "cell_type": "code",
   "execution_count": 6,
   "metadata": {},
   "outputs": [],
   "source": [
    "from sklearn.preprocessing import StandardScaler\n",
    "\n",
    "sc = StandardScaler()\n",
    "x_train = sc.fit_transform(x_train)\n",
    "x_test = sc.transform(x_test)"
   ]
  },
  {
   "cell_type": "markdown",
   "metadata": {},
   "source": [
    "# Model Building"
   ]
  },
  {
   "cell_type": "markdown",
   "metadata": {},
   "source": [
    "Logestic Regression"
   ]
  },
  {
   "cell_type": "code",
   "execution_count": 21,
   "metadata": {},
   "outputs": [
    {
     "name": "stdout",
     "output_type": "stream",
     "text": [
      "Training Accuracy:  0.7998338870431894\n",
      "Testing Accuarcy:  0.7715231788079471\n",
      "roc_auc_score:  0.76991926991927\n",
      "[[131  23]\n",
      " [ 46 102]]\n",
      "              precision    recall  f1-score   support\n",
      "\n",
      "           0       0.74      0.85      0.79       154\n",
      "           1       0.82      0.69      0.75       148\n",
      "\n",
      "    accuracy                           0.77       302\n",
      "   macro avg       0.78      0.77      0.77       302\n",
      "weighted avg       0.78      0.77      0.77       302\n",
      "\n"
     ]
    }
   ],
   "source": [
    "lr=LogisticRegression()\n",
    "lr.fit(x_train,y_train)\n",
    "y_pred=lr.predict(x_test)\n",
    "print(\"Training Accuracy: \", lr.score(x_train, y_train))\n",
    "print('Testing Accuarcy: ', lr.score(x_test, y_test))\n",
    "print(\"roc_auc_score: \",roc_auc_score(y_test,  y_pred))\n",
    "\n",
    "# making a confusion matrix\n",
    "cm = confusion_matrix(y_test, y_pred)\n",
    "print(cm)\n",
    "\n",
    "# making a classification report\n",
    "cr = classification_report(y_test,  y_pred)\n",
    "print(cr)"
   ]
  },
  {
   "cell_type": "markdown",
   "metadata": {},
   "source": [
    "Hyper parameter tuning to get the best ROC-AUC score"
   ]
  },
  {
   "cell_type": "code",
   "execution_count": 32,
   "metadata": {},
   "outputs": [
    {
     "name": "stdout",
     "output_type": "stream",
     "text": [
      "gs.best_score_: 0.8573314273476095\n"
     ]
    }
   ],
   "source": [
    "grid={'penalty' : ['l1', 'l2', 'none'],\n",
    "        'C': [1.0,10,0.0001,1000000.0,1e-06,100000.0],\n",
    "        'solver' : ['lbfgs', 'liblinear'],\n",
    "        'max_iter':[50,100,500,1000,10000],\n",
    "        'n_jobs' : [-1],\n",
    "        }\n",
    "    \n",
    "lr = LogisticRegression(class_weight='balanced',random_state=42)\n",
    "fold = KFold(n_splits=4, shuffle=True, random_state=42)\n",
    "gs = GridSearchCV(lr,param_grid= grid, scoring='roc_auc', cv=fold)\n",
    "gs.fit(x_train, y_train)\n",
    "\n",
    "print ('gs.best_score_:', gs.best_score_)"
   ]
  },
  {
   "cell_type": "code",
   "execution_count": 33,
   "metadata": {},
   "outputs": [
    {
     "data": {
      "text/plain": [
       "LogisticRegression(C=1.0, class_weight='balanced', dual=False,\n",
       "                   fit_intercept=True, intercept_scaling=1, l1_ratio=None,\n",
       "                   max_iter=50, multi_class='auto', n_jobs=-1, penalty='l2',\n",
       "                   random_state=42, solver='liblinear', tol=0.0001, verbose=0,\n",
       "                   warm_start=False)"
      ]
     },
     "execution_count": 33,
     "metadata": {},
     "output_type": "execute_result"
    }
   ],
   "source": [
    "gs.best_estimator_"
   ]
  },
  {
   "cell_type": "code",
   "execution_count": 22,
   "metadata": {},
   "outputs": [
    {
     "name": "stdout",
     "output_type": "stream",
     "text": [
      "Confusion matrix \n",
      " [[517  82]\n",
      " [159 446]]\n",
      "Accuracy of train: 0.7998338870431894\n",
      "AUC of train: 0.8789856372190565\n",
      "F1-score train:  0.7872903795233893\n",
      "\n",
      "\n",
      "\n",
      "Confusion matrix \n",
      " [[131  23]\n",
      " [ 47 101]]\n",
      "Accuracy of test: 0.7682119205298014\n",
      "AUC of test: 0.8158564408564409\n",
      "F1-score test:  0.7426470588235295\n",
      "\n",
      "\n",
      "\n",
      "Classification report: '\n",
      "'               precision    recall  f1-score   support\n",
      "\n",
      "           0       0.74      0.85      0.79       154\n",
      "           1       0.81      0.68      0.74       148\n",
      "\n",
      "    accuracy                           0.77       302\n",
      "   macro avg       0.78      0.77      0.77       302\n",
      "weighted avg       0.77      0.77      0.77       302\n",
      "\n"
     ]
    }
   ],
   "source": [
    "lr=LogisticRegression(C=1.0, class_weight='balanced', dual=False,\n",
    "                   fit_intercept=True, intercept_scaling=1, l1_ratio=None,\n",
    "                   max_iter=50, multi_class='auto', n_jobs=-1, penalty='l2',\n",
    "                   random_state=42, solver='liblinear', tol=0.0001, verbose=0,\n",
    "                   warm_start=False)\n",
    "\n",
    "lr.fit(x_train,y_train)\n",
    "y_train_pred=lr.predict(x_train)\n",
    "y_train_prob=lr.predict_proba(x_train)[:,1]\n",
    "\n",
    "print('Confusion matrix','\\n',confusion_matrix(y_train,y_train_pred))\n",
    "print(\"Accuracy of train:\",accuracy_score(y_train,y_train_pred))\n",
    "lr_train_score= roc_auc_score(y_train,y_train_prob)\n",
    "print(\"AUC of train:\",roc_auc_score(y_train,y_train_prob))\n",
    "lr_train_f1_score= f1_score(y_train,y_train_pred)\n",
    "print(\"F1-score train: \",f1_score(y_train,y_train_pred))\n",
    "\n",
    "\n",
    "\n",
    "y_test_pred=lr.predict(x_test)\n",
    "y_test_prob=lr.predict_proba(x_test)[:,1]\n",
    "\n",
    "print('\\n'*2)\n",
    "print('Confusion matrix','\\n',confusion_matrix(y_test,y_test_pred))\n",
    "print(\"Accuracy of test:\",accuracy_score(y_test,y_test_pred))\n",
    "lr_test_score= roc_auc_score(y_test,y_test_prob)\n",
    "print(\"AUC of test:\",roc_auc_score(y_test,y_test_prob))\n",
    "lr_test_f1_score= f1_score(y_test,y_test_pred)\n",
    "print(\"F1-score test: \",f1_score(y_test,y_test_pred))\n",
    "print('\\n'*2)\n",
    "print(\"Classification report: '\\n'\",classification_report(y_test,y_test_pred))"
   ]
  },
  {
   "cell_type": "markdown",
   "metadata": {},
   "source": [
    "# Decision Tree"
   ]
  },
  {
   "cell_type": "code",
   "execution_count": 25,
   "metadata": {},
   "outputs": [],
   "source": [
    "from sklearn.tree import DecisionTreeClassifier"
   ]
  },
  {
   "cell_type": "code",
   "execution_count": 26,
   "metadata": {},
   "outputs": [
    {
     "name": "stdout",
     "output_type": "stream",
     "text": [
      "Training Accuracy:  1.0\n",
      "Testing Accuarcy:  0.7317880794701986\n",
      "ROC_Score 0.7317479817479818\n",
      "[[113  41]\n",
      " [ 40 108]]\n",
      "              precision    recall  f1-score   support\n",
      "\n",
      "           0       0.74      0.73      0.74       154\n",
      "           1       0.72      0.73      0.73       148\n",
      "\n",
      "    accuracy                           0.73       302\n",
      "   macro avg       0.73      0.73      0.73       302\n",
      "weighted avg       0.73      0.73      0.73       302\n",
      "\n"
     ]
    }
   ],
   "source": [
    "dt=dt=DecisionTreeClassifier(random_state=42)\n",
    "\n",
    "dt.fit(x_train,y_train)\n",
    "y_pred=dt.predict(x_test)\n",
    "\n",
    "print(\"Training Accuracy: \", dt.score(x_train, y_train))\n",
    "print('Testing Accuarcy: ', dt.score(x_test, y_test))\n",
    "print(\"ROC_Score\",roc_auc_score(y_test,  y_pred))\n",
    "\n",
    "# making a confusion matrix\n",
    "cm = confusion_matrix(y_test, y_pred)\n",
    "print(cm)\n",
    "\n",
    "# making a classification report\n",
    "cr = classification_report(y_test,  y_pred)\n",
    "print(cr)"
   ]
  },
  {
   "cell_type": "markdown",
   "metadata": {},
   "source": [
    "HyperParameter tuning decission tree"
   ]
  },
  {
   "cell_type": "code",
   "execution_count": 38,
   "metadata": {},
   "outputs": [
    {
     "name": "stdout",
     "output_type": "stream",
     "text": [
      "gs.best_score_: 0.8495957834418058\n"
     ]
    }
   ],
   "source": [
    "grid={'criterion':['gini','entropy'],\n",
    "    'max_depth': [2,3,5,9],\n",
    "    'max_features': [18,34,44,41,36,'auto'],\n",
    "        }\n",
    "    \n",
    "dt = DecisionTreeClassifier(class_weight='balanced',random_state=42)\n",
    "fold = KFold(n_splits=4, shuffle=True, random_state=42)\n",
    "gs = GridSearchCV(dt,param_grid= grid, scoring='roc_auc', cv=fold)\n",
    "gs.fit(x_train, y_train)\n",
    "\n",
    "print ('gs.best_score_:', gs.best_score_)"
   ]
  },
  {
   "cell_type": "code",
   "execution_count": 39,
   "metadata": {},
   "outputs": [
    {
     "data": {
      "text/plain": [
       "DecisionTreeClassifier(ccp_alpha=0.0, class_weight='balanced',\n",
       "                       criterion='entropy', max_depth=5, max_features=41,\n",
       "                       max_leaf_nodes=None, min_impurity_decrease=0.0,\n",
       "                       min_impurity_split=None, min_samples_leaf=1,\n",
       "                       min_samples_split=2, min_weight_fraction_leaf=0.0,\n",
       "                       presort='deprecated', random_state=42, splitter='best')"
      ]
     },
     "execution_count": 39,
     "metadata": {},
     "output_type": "execute_result"
    }
   ],
   "source": [
    "gs.best_estimator_"
   ]
  },
  {
   "cell_type": "code",
   "execution_count": 27,
   "metadata": {},
   "outputs": [
    {
     "name": "stdout",
     "output_type": "stream",
     "text": [
      "Confusion matrix \n",
      " [[438 161]\n",
      " [ 59 546]]\n",
      "Accuracy of train: 0.8172757475083057\n",
      "AUC of train: 0.8985954552353096\n",
      "F1-score train:  0.8323170731707317\n",
      "\n",
      "\n",
      "\n",
      "Confusion matrix \n",
      " [[100  54]\n",
      " [ 24 124]]\n",
      "Accuracy of test: 0.7417218543046358\n",
      "AUC of test: 0.7984819234819234\n",
      "F1-score test:  0.7607361963190185\n",
      "\n",
      "\n",
      "\n",
      "Classification report: '\n",
      "'               precision    recall  f1-score   support\n",
      "\n",
      "           0       0.81      0.65      0.72       154\n",
      "           1       0.70      0.84      0.76       148\n",
      "\n",
      "    accuracy                           0.74       302\n",
      "   macro avg       0.75      0.74      0.74       302\n",
      "weighted avg       0.75      0.74      0.74       302\n",
      "\n"
     ]
    }
   ],
   "source": [
    "dt=DecisionTreeClassifier(ccp_alpha=0.0, class_weight='balanced',\n",
    "                       criterion='entropy', max_depth=5, max_features=41,\n",
    "                       max_leaf_nodes=None, min_impurity_decrease=0.0,\n",
    "                       min_impurity_split=None, min_samples_leaf=1,\n",
    "                       min_samples_split=2, min_weight_fraction_leaf=0.0,\n",
    "                       presort='deprecated', random_state=42, splitter='best')\n",
    "\n",
    "\n",
    "dt.fit(x_train,y_train)\n",
    "y_train_pred=dt.predict(x_train)\n",
    "y_train_prob=dt.predict_proba(x_train)[:,1]\n",
    "\n",
    "print('Confusion matrix','\\n',confusion_matrix(y_train,y_train_pred))\n",
    "print(\"Accuracy of train:\",accuracy_score(y_train,y_train_pred))\n",
    "dt_train_score=roc_auc_score(y_train,y_train_prob)\n",
    "print(\"AUC of train:\",roc_auc_score(y_train,y_train_prob))\n",
    "dt_train_f1_score= f1_score(y_train,y_train_pred)\n",
    "print(\"F1-score train: \",f1_score(y_train,y_train_pred))\n",
    "\n",
    "\n",
    "\n",
    "y_test_pred=dt.predict(x_test)\n",
    "y_test_prob=dt.predict_proba(x_test)[:,1]\n",
    "\n",
    "print('\\n'*2)\n",
    "print('Confusion matrix','\\n',confusion_matrix(y_test,y_test_pred))\n",
    "print(\"Accuracy of test:\",accuracy_score(y_test,y_test_pred))\n",
    "dt_test_score= roc_auc_score(y_test,y_test_prob)\n",
    "print(\"AUC of test:\",roc_auc_score(y_test,y_test_prob))\n",
    "dt_test_f1_score= f1_score(y_test,y_test_pred)\n",
    "print(\"F1-score test: \",f1_score(y_test,y_test_pred))\n",
    "print('\\n'*2)\n",
    "print(\"Classification report: '\\n'\",classification_report(y_test,y_test_pred))"
   ]
  },
  {
   "cell_type": "markdown",
   "metadata": {},
   "source": [
    "# Random Forest Classifier"
   ]
  },
  {
   "cell_type": "code",
   "execution_count": 28,
   "metadata": {},
   "outputs": [],
   "source": [
    "from sklearn.ensemble import RandomForestClassifier"
   ]
  },
  {
   "cell_type": "code",
   "execution_count": 42,
   "metadata": {},
   "outputs": [
    {
     "name": "stdout",
     "output_type": "stream",
     "text": [
      "Training Accuracy:  1.0\n",
      "Testing Accuarcy:  0.8311258278145696\n",
      "ROC_Score 0.7567128817128816\n",
      "              precision    recall  f1-score   support\n",
      "\n",
      "           0       0.81      0.88      0.84       154\n",
      "           1       0.86      0.78      0.82       148\n",
      "\n",
      "    accuracy                           0.83       302\n",
      "   macro avg       0.83      0.83      0.83       302\n",
      "weighted avg       0.83      0.83      0.83       302\n",
      "\n",
      "[[135  19]\n",
      " [ 32 116]]\n"
     ]
    }
   ],
   "source": [
    "rf=RandomForestClassifier(random_state=42)\n",
    "\n",
    "rf.fit(x_train, y_train)\n",
    "y_pred_rf = rf.predict(x_test)\n",
    "\n",
    "print(\"Training Accuracy: \", rf.score(x_train, y_train))\n",
    "print('Testing Accuarcy: ', rf.score(x_test, y_test))\n",
    "print(\"ROC_Score\",roc_auc_score(y_test,  y_pred))\n",
    "\n",
    "# making a classification report\n",
    "cr = classification_report(y_test,  y_pred_rf)\n",
    "print(cr)\n",
    "\n",
    "# confusion matrix\n",
    "cm = confusion_matrix(y_test, y_pred_rf)\n",
    "print(cm)"
   ]
  },
  {
   "cell_type": "code",
   "execution_count": 43,
   "metadata": {},
   "outputs": [
    {
     "name": "stdout",
     "output_type": "stream",
     "text": [
      "gs.best_score_: 0.9207824372145024\n"
     ]
    }
   ],
   "source": [
    "grid={'n_estimators':[10,20,50,100,500],\n",
    "    'criterion':['gini', 'entropy'],\n",
    "    'bootstrap' : [True],\n",
    "    'oob_score': [True],\n",
    "    'n_jobs':[-1],\n",
    "    'class_weight':[\"balanced\"],\n",
    "    'max_depth': [2,3,5,9,None],\n",
    "    'max_features': [18,34,44,41,36,'auto']\n",
    "    }\n",
    "rf = RandomForestClassifier(random_state=42)\n",
    "fold = KFold(n_splits=4, shuffle=True, random_state=42)\n",
    "gs = RandomizedSearchCV(rf,param_distributions= grid, scoring='roc_auc', cv=fold)\n",
    "gs.fit(x_train, y_train)\n",
    "\n",
    "print ('gs.best_score_:', gs.best_score_)"
   ]
  },
  {
   "cell_type": "code",
   "execution_count": 44,
   "metadata": {},
   "outputs": [
    {
     "data": {
      "text/plain": [
       "RandomForestClassifier(bootstrap=True, ccp_alpha=0.0, class_weight='balanced',\n",
       "                       criterion='gini', max_depth=None, max_features=18,\n",
       "                       max_leaf_nodes=None, max_samples=None,\n",
       "                       min_impurity_decrease=0.0, min_impurity_split=None,\n",
       "                       min_samples_leaf=1, min_samples_split=2,\n",
       "                       min_weight_fraction_leaf=0.0, n_estimators=50, n_jobs=-1,\n",
       "                       oob_score=True, random_state=42, verbose=0,\n",
       "                       warm_start=False)"
      ]
     },
     "execution_count": 44,
     "metadata": {},
     "output_type": "execute_result"
    }
   ],
   "source": [
    "gs.best_estimator_"
   ]
  },
  {
   "cell_type": "code",
   "execution_count": 29,
   "metadata": {},
   "outputs": [
    {
     "name": "stdout",
     "output_type": "stream",
     "text": [
      "Confusion matrix \n",
      " [[599   0]\n",
      " [  0 605]]\n",
      "Accuracy of train: 1.0\n",
      "AUC of train: 1.0\n",
      "F1-score train:  1.0\n",
      "\n",
      "\n",
      "\n",
      "Confusion matrix \n",
      " [[132  22]\n",
      " [ 28 120]]\n",
      "Accuracy of test: 0.8344370860927153\n",
      "AUC of test: 0.9018734643734644\n",
      "F1-score test:  0.8275862068965518\n",
      "\n",
      "\n",
      "\n",
      "Classification report: '\n",
      "'               precision    recall  f1-score   support\n",
      "\n",
      "           0       0.82      0.86      0.84       154\n",
      "           1       0.85      0.81      0.83       148\n",
      "\n",
      "    accuracy                           0.83       302\n",
      "   macro avg       0.84      0.83      0.83       302\n",
      "weighted avg       0.83      0.83      0.83       302\n",
      "\n"
     ]
    }
   ],
   "source": [
    "rf=RandomForestClassifier(bootstrap=True, ccp_alpha=0.0, class_weight='balanced',\n",
    "                       criterion='gini', max_depth=None, max_features=18,\n",
    "                       max_leaf_nodes=None, max_samples=None,\n",
    "                       min_impurity_decrease=0.0, min_impurity_split=None,\n",
    "                       min_samples_leaf=1, min_samples_split=2,\n",
    "                       min_weight_fraction_leaf=0.0, n_estimators=50, n_jobs=-1,\n",
    "                       oob_score=True, random_state=42, verbose=0,\n",
    "                       warm_start=False)\n",
    "\n",
    "rf.fit(x_train,y_train)\n",
    "y_train_pred=rf.predict(x_train)\n",
    "y_train_prob=rf.predict_proba(x_train)[:,1]\n",
    "\n",
    "print('Confusion matrix','\\n',confusion_matrix(y_train,y_train_pred))\n",
    "print(\"Accuracy of train:\",accuracy_score(y_train,y_train_pred))\n",
    "rf_train_score=roc_auc_score(y_train,y_train_prob)\n",
    "print(\"AUC of train:\",roc_auc_score(y_train,y_train_prob))\n",
    "rf_train_f1_score= f1_score(y_train,y_train_pred)\n",
    "print(\"F1-score train: \",f1_score(y_train,y_train_pred))\n",
    "\n",
    "\n",
    "\n",
    "y_test_pred=rf.predict(x_test)\n",
    "y_test_prob=rf.predict_proba(x_test)[:,1]\n",
    "\n",
    "print('\\n'*2)\n",
    "print('Confusion matrix','\\n',confusion_matrix(y_test,y_test_pred))\n",
    "print(\"Accuracy of test:\",accuracy_score(y_test,y_test_pred))\n",
    "rf_test_score=roc_auc_score(y_test,y_test_prob)\n",
    "print(\"AUC of test:\",roc_auc_score(y_test,y_test_prob))\n",
    "rf_test_f1_score= f1_score(y_test,y_test_pred)\n",
    "print(\"F1-score test: \",f1_score(y_test,y_test_pred))\n",
    "print('\\n'*2)\n",
    "print(\"Classification report: '\\n'\",classification_report(y_test,y_test_pred))"
   ]
  },
  {
   "cell_type": "markdown",
   "metadata": {},
   "source": [
    "# Support vectore Classifier"
   ]
  },
  {
   "cell_type": "code",
   "execution_count": 30,
   "metadata": {},
   "outputs": [],
   "source": [
    "from sklearn.svm import SVC"
   ]
  },
  {
   "cell_type": "code",
   "execution_count": 47,
   "metadata": {},
   "outputs": [
    {
     "name": "stdout",
     "output_type": "stream",
     "text": [
      "Training Accuracy:  0.8853820598006644\n",
      "Testing Accuarcy:  0.804635761589404\n",
      "ROC_Score 0.8012021762021763\n",
      "[[150   4]\n",
      " [ 55  93]]\n",
      "              precision    recall  f1-score   support\n",
      "\n",
      "           0       0.73      0.97      0.84       154\n",
      "           1       0.96      0.63      0.76       148\n",
      "\n",
      "    accuracy                           0.80       302\n",
      "   macro avg       0.85      0.80      0.80       302\n",
      "weighted avg       0.84      0.80      0.80       302\n",
      "\n"
     ]
    }
   ],
   "source": [
    "svc=SVC(random_state=42)\n",
    "svc.fit(x_train,y_train)\n",
    "y_pred=svc.predict(x_test)\n",
    "\n",
    "print(\"Training Accuracy: \", svc.score(x_train, y_train))\n",
    "print('Testing Accuarcy: ', svc.score(x_test, y_test))\n",
    "print(\"ROC_Score\",roc_auc_score(y_test,  y_pred))\n",
    "\n",
    "# making a confusion matrix\n",
    "cm = confusion_matrix(y_test, y_pred)\n",
    "print(cm)\n",
    "\n",
    "# making a classification report\n",
    "cr = classification_report(y_test,  y_pred)\n",
    "print(cr)"
   ]
  },
  {
   "cell_type": "markdown",
   "metadata": {},
   "source": [
    "Hyperameter tuning svc"
   ]
  },
  {
   "cell_type": "code",
   "execution_count": 170,
   "metadata": {},
   "outputs": [
    {
     "name": "stdout",
     "output_type": "stream",
     "text": [
      "gs.best_score_: 0.8764492483041175\n"
     ]
    }
   ],
   "source": [
    "grid={'C': [0.1, 1, 10, 100, 1000],  \n",
    "      'gamma': [1, 0.1, 0.01, 0.001, 0.0001,'auto', 'scale'], \n",
    "      'kernel': ['rbf','linear','poly'],\n",
    "      'degree' : [0, 1, 2, 3, 4, 5, 6],\n",
    "      'class_weight' : [\"balanced\",None]}\n",
    "\n",
    "svc=SVC(random_state=42)\n",
    "fold=KFold(n_splits=4,random_state=42,shuffle=True)\n",
    "gs=RandomizedSearchCV(svc,param_distributions=grid,scoring='roc_auc',n_jobs=-1,n_iter=50,cv=fold)\n",
    "gs.fit(x_train,y_train)\n",
    "\n",
    "print ('gs.best_score_:', gs.best_score_)"
   ]
  },
  {
   "cell_type": "code",
   "execution_count": 48,
   "metadata": {},
   "outputs": [
    {
     "data": {
      "text/plain": [
       "RandomForestClassifier(bootstrap=True, ccp_alpha=0.0, class_weight='balanced',\n",
       "                       criterion='gini', max_depth=None, max_features=18,\n",
       "                       max_leaf_nodes=None, max_samples=None,\n",
       "                       min_impurity_decrease=0.0, min_impurity_split=None,\n",
       "                       min_samples_leaf=1, min_samples_split=2,\n",
       "                       min_weight_fraction_leaf=0.0, n_estimators=50, n_jobs=-1,\n",
       "                       oob_score=True, random_state=42, verbose=0,\n",
       "                       warm_start=False)"
      ]
     },
     "execution_count": 48,
     "metadata": {},
     "output_type": "execute_result"
    }
   ],
   "source": [
    "gs.best_estimator_ "
   ]
  },
  {
   "cell_type": "code",
   "execution_count": 31,
   "metadata": {},
   "outputs": [
    {
     "name": "stdout",
     "output_type": "stream",
     "text": [
      "Confusion matrix \n",
      " [[599   0]\n",
      " [  0 605]]\n",
      "Accuracy of train: 1.0\n",
      "AUC of train: 1.0\n",
      "F1-score train:  1.0\n",
      "\n",
      "\n",
      "\n",
      "Confusion matrix \n",
      " [[153   1]\n",
      " [ 59  89]]\n",
      "Accuracy of test: 0.8013245033112583\n",
      "AUC of test: 0.853939978939979\n",
      "F1-score test:  0.7478991596638654\n",
      "\n",
      "\n",
      "\n",
      "Classification report: '\n",
      "'               precision    recall  f1-score   support\n",
      "\n",
      "           0       0.72      0.99      0.84       154\n",
      "           1       0.99      0.60      0.75       148\n",
      "\n",
      "    accuracy                           0.80       302\n",
      "   macro avg       0.86      0.80      0.79       302\n",
      "weighted avg       0.85      0.80      0.79       302\n",
      "\n"
     ]
    }
   ],
   "source": [
    "svc=SVC(C=10, break_ties=False, cache_size=200, class_weight='balanced', coef0=0.0,\n",
    "    decision_function_shape='ovr', degree=4, gamma=0.1, kernel='rbf',\n",
    "    max_iter=-1, probability=True, random_state=42, shrinking=True, tol=0.001,\n",
    "    verbose=False)\n",
    "\n",
    "\n",
    "svc.fit(x_train,y_train)\n",
    "y_train_pred=svc.predict(x_train)\n",
    "y_train_prob=svc.predict_proba(x_train)[:,1]\n",
    "\n",
    "print('Confusion matrix','\\n',confusion_matrix(y_train,y_train_pred))\n",
    "print(\"Accuracy of train:\",accuracy_score(y_train,y_train_pred))\n",
    "svc_train_score=roc_auc_score(y_train,y_train_prob)\n",
    "print(\"AUC of train:\",roc_auc_score(y_train,y_train_prob))\n",
    "svc_train_f1_score= f1_score(y_train,y_train_pred)\n",
    "print(\"F1-score train: \",f1_score(y_train,y_train_pred))\n",
    "\n",
    "\n",
    "\n",
    "y_test_pred=svc.predict(x_test)\n",
    "y_test_prob=svc.predict_proba(x_test)[:,1]\n",
    "\n",
    "print('\\n'*2)\n",
    "print('Confusion matrix','\\n',confusion_matrix(y_test,y_test_pred))\n",
    "print(\"Accuracy of test:\",accuracy_score(y_test,y_test_pred))\n",
    "svc_test_score=roc_auc_score(y_test,y_test_prob)\n",
    "print(\"AUC of test:\",roc_auc_score(y_test,y_test_prob))\n",
    "svc_test_f1_score= f1_score(y_test,y_test_pred)\n",
    "print(\"F1-score test: \",f1_score(y_test,y_test_pred))\n",
    "print('\\n'*2)\n",
    "print(\"Classification report: '\\n'\",classification_report(y_test,y_test_pred))"
   ]
  },
  {
   "cell_type": "markdown",
   "metadata": {},
   "source": [
    "# KNN Classifier"
   ]
  },
  {
   "cell_type": "code",
   "execution_count": 32,
   "metadata": {},
   "outputs": [],
   "source": [
    "from sklearn.neighbors import KNeighborsClassifier"
   ]
  },
  {
   "cell_type": "code",
   "execution_count": 51,
   "metadata": {},
   "outputs": [
    {
     "name": "stdout",
     "output_type": "stream",
     "text": [
      "Training Accuracy:  0.8289036544850499\n",
      "Testing Accuarcy:  0.7450331125827815\n",
      "ROC_Score 0.7465777465777466\n",
      "[[103  51]\n",
      " [ 26 122]]\n",
      "              precision    recall  f1-score   support\n",
      "\n",
      "           0       0.80      0.67      0.73       154\n",
      "           1       0.71      0.82      0.76       148\n",
      "\n",
      "    accuracy                           0.75       302\n",
      "   macro avg       0.75      0.75      0.74       302\n",
      "weighted avg       0.75      0.75      0.74       302\n",
      "\n"
     ]
    }
   ],
   "source": [
    "knn=KNeighborsClassifier()\n",
    "\n",
    "knn.fit(x_train,y_train)\n",
    "y_pred= knn.predict(x_test)\n",
    "\n",
    "print(\"Training Accuracy: \", knn.score(x_train, y_train))\n",
    "print('Testing Accuarcy: ', knn.score(x_test, y_test))\n",
    "print(\"ROC_Score\",roc_auc_score(y_test,  y_pred))\n",
    "\n",
    "# making a confusion matrix\n",
    "cm = confusion_matrix(y_test, y_pred)\n",
    "print(cm)\n",
    "\n",
    "# making a classification report\n",
    "cr = classification_report(y_test,  y_pred)\n",
    "print(cr)"
   ]
  },
  {
   "cell_type": "markdown",
   "metadata": {},
   "source": [
    "KNN Hyperparameter Tunning"
   ]
  },
  {
   "cell_type": "code",
   "execution_count": 33,
   "metadata": {},
   "outputs": [
    {
     "name": "stdout",
     "output_type": "stream",
     "text": [
      "gs.best_score_: 0.8730960947618893\n"
     ]
    }
   ],
   "source": [
    "grid = {'algorithm' :['auto','ball_tree', 'kd_tree', 'brute'],\n",
    "         'n_jobs':[-1,None], \n",
    "         'n_neighbors':list(range(1,41,2)), \n",
    "         'p':[1,2],\n",
    "         'weights':['uniform','distance']\n",
    "       }\n",
    "\n",
    "knn=KNeighborsClassifier()\n",
    "fold=KFold(n_splits=4,random_state=42,shuffle=True)\n",
    "gs=RandomizedSearchCV(knn,param_distributions=grid,scoring='roc_auc',n_jobs=-1,n_iter=50,cv=fold,random_state=42)\n",
    "gs.fit(x_train,y_train)\n",
    "\n",
    "print ('gs.best_score_:', gs.best_score_)"
   ]
  },
  {
   "cell_type": "code",
   "execution_count": 34,
   "metadata": {},
   "outputs": [
    {
     "data": {
      "text/plain": [
       "KNeighborsClassifier(algorithm='ball_tree', leaf_size=30, metric='minkowski',\n",
       "                     metric_params=None, n_jobs=None, n_neighbors=21, p=1,\n",
       "                     weights='distance')"
      ]
     },
     "execution_count": 34,
     "metadata": {},
     "output_type": "execute_result"
    }
   ],
   "source": [
    "gs.best_estimator_"
   ]
  },
  {
   "cell_type": "code",
   "execution_count": 35,
   "metadata": {},
   "outputs": [
    {
     "name": "stdout",
     "output_type": "stream",
     "text": [
      "Confusion matrix \n",
      " [[599   0]\n",
      " [  0 605]]\n",
      "Accuracy of train: 1.0\n",
      "AUC of train: 1.0\n",
      "F1-score train:  1.0\n",
      "\n",
      "\n",
      "\n",
      "Confusion matrix \n",
      " [[ 38 116]\n",
      " [  9 139]]\n",
      "Accuracy of test: 0.5860927152317881\n",
      "AUC of test: 0.8469857844857845\n",
      "F1-score test:  0.6898263027295285\n",
      "\n",
      "\n",
      "\n",
      "Classification report: '\n",
      "'               precision    recall  f1-score   support\n",
      "\n",
      "           0       0.81      0.25      0.38       154\n",
      "           1       0.55      0.94      0.69       148\n",
      "\n",
      "    accuracy                           0.59       302\n",
      "   macro avg       0.68      0.59      0.53       302\n",
      "weighted avg       0.68      0.59      0.53       302\n",
      "\n"
     ]
    }
   ],
   "source": [
    "knn=KNeighborsClassifier(algorithm='ball_tree', leaf_size=30, metric='minkowski',\n",
    "                     metric_params=None, n_jobs=None, n_neighbors=21, p=1,\n",
    "                     weights='distance')\n",
    "\n",
    "\n",
    "knn.fit(x_train,y_train)\n",
    "y_train_pred=knn.predict(x_train)\n",
    "y_train_prob=knn.predict_proba(x_train)[:,1]\n",
    "\n",
    "print('Confusion matrix','\\n',confusion_matrix(y_train,y_train_pred))\n",
    "print(\"Accuracy of train:\",accuracy_score(y_train,y_train_pred))\n",
    "knn_train_score=roc_auc_score(y_train,y_train_prob)\n",
    "print(\"AUC of train:\",roc_auc_score(y_train,y_train_prob))\n",
    "knn_train_f1_score= f1_score(y_train,y_train_pred)\n",
    "print(\"F1-score train: \",f1_score(y_train,y_train_pred))\n",
    "\n",
    "\n",
    "\n",
    "y_test_pred=knn.predict(x_test)\n",
    "y_test_prob=knn.predict_proba(x_test)[:,1]\n",
    "\n",
    "print('\\n'*2)\n",
    "print('Confusion matrix','\\n',confusion_matrix(y_test,y_test_pred))\n",
    "print(\"Accuracy of test:\",accuracy_score(y_test,y_test_pred))\n",
    "knn_test_score=roc_auc_score(y_test,y_test_prob)\n",
    "print(\"AUC of test:\",roc_auc_score(y_test,y_test_prob))\n",
    "knn_test_f1_score= f1_score(y_test,y_test_pred)\n",
    "print(\"F1-score test: \",f1_score(y_test,y_test_pred))\n",
    "print('\\n'*2)\n",
    "print(\"Classification report: '\\n'\",classification_report(y_test,y_test_pred))"
   ]
  },
  {
   "cell_type": "markdown",
   "metadata": {},
   "source": [
    "# Bagging Classifier"
   ]
  },
  {
   "cell_type": "code",
   "execution_count": 50,
   "metadata": {},
   "outputs": [],
   "source": [
    "from sklearn.ensemble import BaggingClassifier\n",
    "from sklearn.metrics import accuracy_score"
   ]
  },
  {
   "cell_type": "markdown",
   "metadata": {},
   "source": [
    "Bagged Decision Treee"
   ]
  },
  {
   "cell_type": "code",
   "execution_count": 51,
   "metadata": {},
   "outputs": [
    {
     "name": "stdout",
     "output_type": "stream",
     "text": [
      "Confusion matrix \n",
      " [[518  81]\n",
      " [104 501]]\n",
      "Accuracy of train: 0.8463455149501661\n",
      "AUC of train: 0.9375846797003269\n",
      "F1-score train:  0.8441449031171021\n",
      "\n",
      "\n",
      "\n",
      "Confusion matrix \n",
      " [[124  30]\n",
      " [ 42 106]]\n",
      "Accuracy of test: 0.7615894039735099\n",
      "AUC of test: 0.8248288873288873\n",
      "F1-score test:  0.7464788732394366\n",
      "\n",
      "\n",
      "\n",
      "Classification report: '\n",
      "'               precision    recall  f1-score   support\n",
      "\n",
      "           0       0.75      0.81      0.77       154\n",
      "           1       0.78      0.72      0.75       148\n",
      "\n",
      "    accuracy                           0.76       302\n",
      "   macro avg       0.76      0.76      0.76       302\n",
      "weighted avg       0.76      0.76      0.76       302\n",
      "\n"
     ]
    }
   ],
   "source": [
    "dt_bag=BaggingClassifier(base_estimator=dt,random_state=42,n_jobs=-1)\n",
    "\n",
    "dt_bag.fit(x_train,y_train)\n",
    "y_train_pred=dt_bag.predict(x_train)\n",
    "y_train_prob=dt_bag.predict_proba(x_train)[:,1]\n",
    "\n",
    "print('Confusion matrix','\\n',confusion_matrix(y_train,y_train_pred))\n",
    "print(\"Accuracy of train:\",accuracy_score(y_train,y_train_pred))\n",
    "dt_bagged_train_score=roc_auc_score(y_train,y_train_prob)\n",
    "print(\"AUC of train:\",roc_auc_score(y_train,y_train_prob))\n",
    "dt_bagged_train_f1_score= f1_score(y_train,y_train_pred)\n",
    "print(\"F1-score train: \",f1_score(y_train,y_train_pred))\n",
    "\n",
    "\n",
    "y_test_pred=dt_bag.predict(x_test)\n",
    "y_test_prob=dt_bag.predict_proba(x_test)[:,1]\n",
    "\n",
    "print('\\n'*2)\n",
    "print('Confusion matrix','\\n',confusion_matrix(y_test,y_test_pred))\n",
    "print(\"Accuracy of test:\",accuracy_score(y_test,y_test_pred))\n",
    "dt_bagged_test_score=roc_auc_score(y_test,y_test_prob)\n",
    "print(\"AUC of test:\",roc_auc_score(y_test,y_test_prob))\n",
    "dt_bagged_test_f1_score= f1_score(y_test,y_test_pred)\n",
    "print(\"F1-score test: \",f1_score(y_test,y_test_pred))\n",
    "print('\\n'*2)\n",
    "print(\"Classification report: '\\n'\",classification_report(y_test,y_test_pred))"
   ]
  },
  {
   "cell_type": "markdown",
   "metadata": {},
   "source": [
    "Bagged random Forest"
   ]
  },
  {
   "cell_type": "code",
   "execution_count": 52,
   "metadata": {},
   "outputs": [
    {
     "name": "stdout",
     "output_type": "stream",
     "text": [
      "Confusion matrix \n",
      " [[591   8]\n",
      " [ 12 593]]\n",
      "Accuracy of train: 0.9833887043189369\n",
      "AUC of train: 0.9989596986713393\n",
      "F1-score train:  0.9834162520729686\n",
      "\n",
      "\n",
      "\n",
      "Confusion matrix \n",
      " [[130  24]\n",
      " [ 26 122]]\n",
      "Accuracy of test: 0.8344370860927153\n",
      "AUC of test: 0.8996797121797121\n",
      "F1_Score test:  0.8299319727891157\n",
      "\n",
      "\n",
      "\n",
      "Classification report: '\n",
      "'               precision    recall  f1-score   support\n",
      "\n",
      "           0       0.83      0.84      0.84       154\n",
      "           1       0.84      0.82      0.83       148\n",
      "\n",
      "    accuracy                           0.83       302\n",
      "   macro avg       0.83      0.83      0.83       302\n",
      "weighted avg       0.83      0.83      0.83       302\n",
      "\n"
     ]
    }
   ],
   "source": [
    "rf_bag=BaggingClassifier(base_estimator=rf,random_state=42,n_jobs=-1)\n",
    "rf_bag.fit(x_train,y_train)\n",
    "y_train_pred=rf_bag.predict(x_train)\n",
    "y_train_prob=rf_bag.predict_proba(x_train)[:,1]\n",
    "\n",
    "print('Confusion matrix','\\n',confusion_matrix(y_train,y_train_pred))\n",
    "print(\"Accuracy of train:\",accuracy_score(y_train,y_train_pred))\n",
    "rf_bagged_train_score=roc_auc_score(y_train,y_train_prob)\n",
    "print(\"AUC of train:\",roc_auc_score(y_train,y_train_prob))\n",
    "rf_bagged_train_f1_score= f1_score(y_train,y_train_pred)\n",
    "print(\"F1-score train: \",f1_score(y_train,y_train_pred))\n",
    "\n",
    "\n",
    "y_test_pred=rf_bag.predict(x_test)\n",
    "y_test_prob=rf_bag.predict_proba(x_test)[:,1]\n",
    "\n",
    "print('\\n'*2)\n",
    "print('Confusion matrix','\\n',confusion_matrix(y_test,y_test_pred))\n",
    "print(\"Accuracy of test:\",accuracy_score(y_test,y_test_pred))\n",
    "rf_bagged_test_score=roc_auc_score(y_test,y_test_prob)\n",
    "print(\"AUC of test:\",roc_auc_score(y_test,y_test_prob))\n",
    "rf_bagged_test_f1_score= f1_score(y_test,y_test_pred)\n",
    "print('F1_Score test: ',f1_score(y_test,y_test_pred))\n",
    "print('\\n'*2)\n",
    "print(\"Classification report: '\\n'\",classification_report(y_test,y_test_pred))"
   ]
  },
  {
   "cell_type": "markdown",
   "metadata": {},
   "source": [
    "KNN Bagging"
   ]
  },
  {
   "cell_type": "code",
   "execution_count": 53,
   "metadata": {},
   "outputs": [
    {
     "name": "stdout",
     "output_type": "stream",
     "text": [
      "Confusion matrix \n",
      " [[583  16]\n",
      " [  0 605]]\n",
      "Accuracy of train: 0.9867109634551495\n",
      "AUC of train: 0.9999862029001504\n",
      "F1_Score train:  0.9869494290375205\n",
      "\n",
      "\n",
      "\n",
      "Confusion matrix \n",
      " [[ 39 115]\n",
      " [  8 140]]\n",
      "Accuracy of test: 0.5927152317880795\n",
      "AUC of test: 0.84498946998947\n",
      "F1_Score test:  0.6947890818858562\n",
      "\n",
      "\n",
      "\n",
      "Classification report: '\n",
      "'               precision    recall  f1-score   support\n",
      "\n",
      "           0       0.83      0.25      0.39       154\n",
      "           1       0.55      0.95      0.69       148\n",
      "\n",
      "    accuracy                           0.59       302\n",
      "   macro avg       0.69      0.60      0.54       302\n",
      "weighted avg       0.69      0.59      0.54       302\n",
      "\n"
     ]
    }
   ],
   "source": [
    "knn_bag=BaggingClassifier(base_estimator=knn,random_state=42)\n",
    "knn_bag.fit(x_train,y_train)\n",
    "y_train_pred=knn_bag.predict(x_train)\n",
    "y_train_prob=knn_bag.predict_proba(x_train)[:,1]\n",
    "\n",
    "print('Confusion matrix','\\n',confusion_matrix(y_train,y_train_pred))\n",
    "print(\"Accuracy of train:\",accuracy_score(y_train,y_train_pred))\n",
    "knn_bagged_train_score=roc_auc_score(y_train,y_train_prob)\n",
    "print(\"AUC of train:\",roc_auc_score(y_train,y_train_prob))\n",
    "knn_bagged_train_f1_score= f1_score(y_train,y_train_pred)\n",
    "print('F1_Score train: ',f1_score(y_train,y_train_pred))\n",
    "\n",
    "y_test_pred=knn_bag.predict(x_test)\n",
    "y_test_prob=knn_bag.predict_proba(x_test)[:,1]\n",
    "\n",
    "print('\\n'*2)\n",
    "print('Confusion matrix','\\n',confusion_matrix(y_test,y_test_pred))\n",
    "print(\"Accuracy of test:\",accuracy_score(y_test,y_test_pred))\n",
    "knn_bagged_test_score=roc_auc_score(y_test,y_test_prob)\n",
    "print(\"AUC of test:\",roc_auc_score(y_test,y_test_prob))\n",
    "knn_bagged_test_f1_score= f1_score(y_test,y_test_pred)\n",
    "print('F1_Score test: ',f1_score(y_test,y_test_pred))\n",
    "print('\\n'*2)\n",
    "print(\"Classification report: '\\n'\",classification_report(y_test,y_test_pred))"
   ]
  },
  {
   "cell_type": "markdown",
   "metadata": {},
   "source": [
    "Bagged Logistic Regression"
   ]
  },
  {
   "cell_type": "code",
   "execution_count": 40,
   "metadata": {},
   "outputs": [
    {
     "name": "stdout",
     "output_type": "stream",
     "text": [
      "gs.best_score_: 0.7143424686816553\n"
     ]
    }
   ],
   "source": [
    "grid = { 'n_jobs':[-1,None], \n",
    "         'max_samples':[1,2,3,4,5,6,7],\n",
    "         'max_features':[1,2,3,4,5,6,7],\n",
    "        }\n",
    "\n",
    "lr_bag=BaggingClassifier(base_estimator=lr,random_state=42)\n",
    "fold=KFold(n_splits=4,random_state=42,shuffle=True)\n",
    "gs=RandomizedSearchCV(lr_bag,param_distributions=grid,scoring='roc_auc',n_jobs=-1,n_iter=50,cv=fold,random_state=42)\n",
    "gs.fit(x_train,y_train)\n",
    "\n",
    "print ('gs.best_score_:', gs.best_score_)"
   ]
  },
  {
   "cell_type": "code",
   "execution_count": 41,
   "metadata": {},
   "outputs": [
    {
     "data": {
      "text/plain": [
       "BaggingClassifier(base_estimator=LogisticRegression(C=1.0,\n",
       "                                                    class_weight='balanced',\n",
       "                                                    dual=False,\n",
       "                                                    fit_intercept=True,\n",
       "                                                    intercept_scaling=1,\n",
       "                                                    l1_ratio=None, max_iter=50,\n",
       "                                                    multi_class='auto',\n",
       "                                                    n_jobs=-1, penalty='l2',\n",
       "                                                    random_state=42,\n",
       "                                                    solver='liblinear',\n",
       "                                                    tol=0.0001, verbose=0,\n",
       "                                                    warm_start=False),\n",
       "                  bootstrap=True, bootstrap_features=False, max_features=6,\n",
       "                  max_samples=7, n_estimators=10, n_jobs=None, oob_score=False,\n",
       "                  random_state=42, verbose=0, warm_start=False)"
      ]
     },
     "execution_count": 41,
     "metadata": {},
     "output_type": "execute_result"
    }
   ],
   "source": [
    "gs.best_estimator_"
   ]
  },
  {
   "cell_type": "code",
   "execution_count": 54,
   "metadata": {},
   "outputs": [
    {
     "name": "stdout",
     "output_type": "stream",
     "text": [
      "Confusion matrix \n",
      " [[400 199]\n",
      " [150 455]]\n",
      "Accuracy of train: 0.7101328903654485\n",
      "AUC of train: 0.7612605030422606\n",
      "F1_Score train:  0.7227958697378871\n",
      "\n",
      "\n",
      "\n",
      "Confusion matrix \n",
      " [[107  47]\n",
      " [ 53  95]]\n",
      "Accuracy of test: 0.6688741721854304\n",
      "AUC of test: 0.7027465777465777\n",
      "F1_Score test:  0.6551724137931034\n",
      "\n",
      "\n",
      "\n",
      "Classification report: '\n",
      "'               precision    recall  f1-score   support\n",
      "\n",
      "           0       0.67      0.69      0.68       154\n",
      "           1       0.67      0.64      0.66       148\n",
      "\n",
      "    accuracy                           0.67       302\n",
      "   macro avg       0.67      0.67      0.67       302\n",
      "weighted avg       0.67      0.67      0.67       302\n",
      "\n"
     ]
    }
   ],
   "source": [
    "lr_bag=BaggingClassifier(base_estimator=lr,max_samples= 7,random_state=42,max_features=6)\n",
    "lr_bag.fit(x_train,y_train)\n",
    "y_train_pred=lr_bag.predict(x_train)\n",
    "y_train_prob=lr_bag.predict_proba(x_train)[:,1]\n",
    "\n",
    "print('Confusion matrix','\\n',confusion_matrix(y_train,y_train_pred))\n",
    "print(\"Accuracy of train:\",accuracy_score(y_train,y_train_pred))\n",
    "lr_bagged_train_score=roc_auc_score(y_train,y_train_prob)\n",
    "print(\"AUC of train:\",roc_auc_score(y_train,y_train_prob))\n",
    "lr_bagged_train_f1_score= f1_score(y_train,y_train_pred)\n",
    "print('F1_Score train: ',f1_score(y_train,y_train_pred))\n",
    "\n",
    "\n",
    "y_test_pred=lr_bag.predict(x_test)\n",
    "y_test_prob=lr_bag.predict_proba(x_test)[:,1]\n",
    "\n",
    "print('\\n'*2)\n",
    "print('Confusion matrix','\\n',confusion_matrix(y_test,y_test_pred))\n",
    "print(\"Accuracy of test:\",accuracy_score(y_test,y_test_pred))\n",
    "lr_bagged_test_score=roc_auc_score(y_test,y_test_prob)\n",
    "print(\"AUC of test:\",roc_auc_score(y_test,y_test_prob))\n",
    "lr_bagged_test_f1_score= f1_score(y_test,y_test_pred)\n",
    "print('F1_Score test: ',f1_score(y_test,y_test_pred))\n",
    "print('\\n'*2)\n",
    "print(\"Classification report: '\\n'\",classification_report(y_test,y_test_pred))"
   ]
  },
  {
   "cell_type": "markdown",
   "metadata": {},
   "source": [
    "Bagged SVC"
   ]
  },
  {
   "cell_type": "code",
   "execution_count": 55,
   "metadata": {},
   "outputs": [
    {
     "name": "stdout",
     "output_type": "stream",
     "text": [
      "Confusion matrix \n",
      " [[599   0]\n",
      " [  3 602]]\n",
      "Accuracy of train: 0.9975083056478405\n",
      "AUC of train: 0.9999668869603608\n",
      "F1_Score train:  0.9975144987572493\n",
      "\n",
      "\n",
      "\n",
      "Confusion matrix \n",
      " [[151   3]\n",
      " [ 57  91]]\n",
      "Accuracy of test: 0.8013245033112583\n",
      "AUC of test: 0.853939978939979\n",
      "F1_Score test:  0.7520661157024794\n",
      "\n",
      "\n",
      "\n",
      "Classification report: '\n",
      "'               precision    recall  f1-score   support\n",
      "\n",
      "           0       0.73      0.98      0.83       154\n",
      "           1       0.97      0.61      0.75       148\n",
      "\n",
      "    accuracy                           0.80       302\n",
      "   macro avg       0.85      0.80      0.79       302\n",
      "weighted avg       0.84      0.80      0.79       302\n",
      "\n"
     ]
    }
   ],
   "source": [
    "svc_bag=BaggingClassifier(base_estimator=svc,random_state=42)\n",
    "svc_bag.fit(x_train,y_train)\n",
    "y_train_pred=svc_bag.predict(x_train)\n",
    "y_train_prob=svc_bag.predict_proba(x_train)[:,1]\n",
    "\n",
    "print('Confusion matrix','\\n',confusion_matrix(y_train,y_train_pred))\n",
    "print(\"Accuracy of train:\",accuracy_score(y_train,y_train_pred))\n",
    "svc_bagged_train_score=roc_auc_score(y_train,y_train_prob)\n",
    "print(\"AUC of train:\",roc_auc_score(y_train,y_train_prob))\n",
    "svc_bagged_train_f1_score= f1_score(y_train,y_train_pred)\n",
    "print('F1_Score train: ',f1_score(y_train,y_train_pred))\n",
    "\n",
    "\n",
    "y_test_pred=svc_bag.predict(x_test)\n",
    "y_test_prob=svc_bag.predict_proba(x_test)[:,1]\n",
    "\n",
    "print('\\n'*2)\n",
    "print('Confusion matrix','\\n',confusion_matrix(y_test,y_test_pred))\n",
    "print(\"Accuracy of test:\",accuracy_score(y_test,y_test_pred))\n",
    "svc_bagged_test_score=roc_auc_score(y_test,y_test_prob)\n",
    "print(\"AUC of test:\",roc_auc_score(y_test,y_test_prob))\n",
    "svc_bagged_test_f1_score= f1_score(y_test,y_test_pred)\n",
    "print('F1_Score test: ',f1_score(y_test,y_test_pred))\n",
    "print('\\n'*2)\n",
    "print(\"Classification report: '\\n'\",classification_report(y_test,y_test_pred))"
   ]
  },
  {
   "cell_type": "code",
   "execution_count": 45,
   "metadata": {},
   "outputs": [
    {
     "data": {
      "text/html": [
       "<div>\n",
       "<style scoped>\n",
       "    .dataframe tbody tr th:only-of-type {\n",
       "        vertical-align: middle;\n",
       "    }\n",
       "\n",
       "    .dataframe tbody tr th {\n",
       "        vertical-align: top;\n",
       "    }\n",
       "\n",
       "    .dataframe thead th {\n",
       "        text-align: right;\n",
       "    }\n",
       "</style>\n",
       "<table border=\"1\" class=\"dataframe\">\n",
       "  <thead>\n",
       "    <tr style=\"text-align: right;\">\n",
       "      <th></th>\n",
       "      <th>Train AUC Score</th>\n",
       "      <th>Test AUC Score</th>\n",
       "      <th>Train F1_Score</th>\n",
       "      <th>Test F1_Score</th>\n",
       "    </tr>\n",
       "    <tr>\n",
       "      <th>Model</th>\n",
       "      <th></th>\n",
       "      <th></th>\n",
       "      <th></th>\n",
       "      <th></th>\n",
       "    </tr>\n",
       "  </thead>\n",
       "  <tbody>\n",
       "    <tr>\n",
       "      <td>Random Forest</td>\n",
       "      <td>1.000000</td>\n",
       "      <td>0.901873</td>\n",
       "      <td>1.000000</td>\n",
       "      <td>0.827586</td>\n",
       "    </tr>\n",
       "    <tr>\n",
       "      <td>Bagged Random Forest</td>\n",
       "      <td>0.998960</td>\n",
       "      <td>0.899680</td>\n",
       "      <td>0.983416</td>\n",
       "      <td>0.829932</td>\n",
       "    </tr>\n",
       "    <tr>\n",
       "      <td>Support Vector Classifier</td>\n",
       "      <td>1.000000</td>\n",
       "      <td>0.853940</td>\n",
       "      <td>1.000000</td>\n",
       "      <td>0.747899</td>\n",
       "    </tr>\n",
       "    <tr>\n",
       "      <td>Bagged SVC</td>\n",
       "      <td>0.999967</td>\n",
       "      <td>0.853940</td>\n",
       "      <td>0.997514</td>\n",
       "      <td>0.752066</td>\n",
       "    </tr>\n",
       "    <tr>\n",
       "      <td>KNN</td>\n",
       "      <td>1.000000</td>\n",
       "      <td>0.846986</td>\n",
       "      <td>1.000000</td>\n",
       "      <td>0.689826</td>\n",
       "    </tr>\n",
       "    <tr>\n",
       "      <td>Bagged KNN</td>\n",
       "      <td>0.999986</td>\n",
       "      <td>0.844989</td>\n",
       "      <td>0.986949</td>\n",
       "      <td>0.694789</td>\n",
       "    </tr>\n",
       "    <tr>\n",
       "      <td>Bagged Decision Tree</td>\n",
       "      <td>0.937585</td>\n",
       "      <td>0.824829</td>\n",
       "      <td>0.844145</td>\n",
       "      <td>0.746479</td>\n",
       "    </tr>\n",
       "    <tr>\n",
       "      <td>Logistic Regression</td>\n",
       "      <td>0.878986</td>\n",
       "      <td>0.815856</td>\n",
       "      <td>0.787290</td>\n",
       "      <td>0.742647</td>\n",
       "    </tr>\n",
       "    <tr>\n",
       "      <td>Decision Tree</td>\n",
       "      <td>0.898595</td>\n",
       "      <td>0.798482</td>\n",
       "      <td>0.832317</td>\n",
       "      <td>0.760736</td>\n",
       "    </tr>\n",
       "    <tr>\n",
       "      <td>Bagged LR</td>\n",
       "      <td>0.761261</td>\n",
       "      <td>0.702747</td>\n",
       "      <td>0.722796</td>\n",
       "      <td>0.655172</td>\n",
       "    </tr>\n",
       "  </tbody>\n",
       "</table>\n",
       "</div>"
      ],
      "text/plain": [
       "                           Train AUC Score  Test AUC Score  Train F1_Score  \\\n",
       "Model                                                                        \n",
       "Random Forest                     1.000000        0.901873        1.000000   \n",
       "Bagged Random Forest              0.998960        0.899680        0.983416   \n",
       "Support Vector Classifier         1.000000        0.853940        1.000000   \n",
       "Bagged SVC                        0.999967        0.853940        0.997514   \n",
       "KNN                               1.000000        0.846986        1.000000   \n",
       "Bagged KNN                        0.999986        0.844989        0.986949   \n",
       "Bagged Decision Tree              0.937585        0.824829        0.844145   \n",
       "Logistic Regression               0.878986        0.815856        0.787290   \n",
       "Decision Tree                     0.898595        0.798482        0.832317   \n",
       "Bagged LR                         0.761261        0.702747        0.722796   \n",
       "\n",
       "                           Test F1_Score  \n",
       "Model                                     \n",
       "Random Forest                   0.827586  \n",
       "Bagged Random Forest            0.829932  \n",
       "Support Vector Classifier       0.747899  \n",
       "Bagged SVC                      0.752066  \n",
       "KNN                             0.689826  \n",
       "Bagged KNN                      0.694789  \n",
       "Bagged Decision Tree            0.746479  \n",
       "Logistic Regression             0.742647  \n",
       "Decision Tree                   0.760736  \n",
       "Bagged LR                       0.655172  "
      ]
     },
     "metadata": {},
     "output_type": "display_data"
    }
   ],
   "source": [
    "results = pd.DataFrame({\n",
    "    'Model': ['Logistic Regression', 'Decision Tree ', 'Random Forest','Bagged Random Forest','Bagged Decision Tree', \n",
    "              'Support Vector Classifier','Bagged SVC','KNN','Bagged KNN','Bagged LR'\n",
    "              ],\n",
    "              \n",
    "    'Train AUC Score': [lr_train_score, dt_train_score, rf_train_score, rf_bagged_train_score, dt_bagged_train_score,\n",
    "              svc_train_score, svc_bagged_train_score, knn_train_score, knn_bagged_train_score, lr_bagged_train_score\n",
    "              ],\n",
    "    \n",
    "    'Test AUC Score': [lr_test_score, dt_test_score, rf_test_score, rf_bagged_test_score, dt_bagged_test_score,\n",
    "              svc_test_score, svc_bagged_test_score, knn_test_score, knn_bagged_test_score, lr_bagged_test_score\n",
    "              ],\n",
    "    \n",
    "    'Train F1_Score': [lr_train_f1_score, dt_train_f1_score, rf_train_f1_score, rf_bagged_train_f1_score, dt_bagged_train_f1_score,\n",
    "              svc_train_f1_score, svc_bagged_train_f1_score, knn_train_f1_score, knn_bagged_train_f1_score, lr_bagged_train_f1_score\n",
    "              ],\n",
    "    \n",
    "    'Test F1_Score': [lr_test_f1_score, dt_test_f1_score, rf_test_f1_score, rf_bagged_test_f1_score, dt_bagged_test_f1_score,\n",
    "              svc_test_f1_score, svc_bagged_test_f1_score, knn_test_f1_score, knn_bagged_test_f1_score, lr_bagged_test_f1_score\n",
    "              ]\n",
    "            })\n",
    "\n",
    "result = results.sort_values(by='Test AUC Score', ascending=False)\n",
    "result = result.set_index('Model')\n",
    "display(result)"
   ]
  }
 ],
 "metadata": {
  "kernelspec": {
   "display_name": "Python 3",
   "language": "python",
   "name": "python3"
  },
  "language_info": {
   "codemirror_mode": {
    "name": "ipython",
    "version": 3
   },
   "file_extension": ".py",
   "mimetype": "text/x-python",
   "name": "python",
   "nbconvert_exporter": "python",
   "pygments_lexer": "ipython3",
   "version": "3.7.4"
  }
 },
 "nbformat": 4,
 "nbformat_minor": 2
}
